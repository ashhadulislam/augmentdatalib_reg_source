{
 "cells": [
  {
   "cell_type": "markdown",
   "metadata": {},
   "source": [
    "## Part I: Running KNNOR"
   ]
  },
  {
   "cell_type": "code",
   "execution_count": 13,
   "metadata": {},
   "outputs": [],
   "source": [
    "from knnor_reg import data_augment\n",
    "import numpy as np\n",
    "import pandas as pd\n",
    "import matplotlib.pyplot as plt"
   ]
  },
  {
   "cell_type": "code",
   "execution_count": 14,
   "metadata": {},
   "outputs": [],
   "source": [
    "dataset = pd.read_csv(\"concrete.csv\")\n",
    "\n"
   ]
  },
  {
   "cell_type": "code",
   "execution_count": 15,
   "metadata": {},
   "outputs": [
    {
     "name": "stdout",
     "output_type": "stream",
     "text": [
      "Original shape= (1030, 8) (1030,)\n"
     ]
    }
   ],
   "source": [
    "X=dataset.iloc[:,:-1].values\n",
    "y=dataset.iloc[:,-1].values\n",
    "\n",
    "print(\"Original shape=\",X.shape,y.shape)\n"
   ]
  },
  {
   "cell_type": "code",
   "execution_count": 16,
   "metadata": {},
   "outputs": [
    {
     "data": {
      "text/plain": [
       "(array([ 45., 133., 156., 181., 196., 112., 100.,  52.,  36.,  19.]),\n",
       " array([ 2.33 , 10.357, 18.384, 26.411, 34.438, 42.465, 50.492, 58.519,\n",
       "        66.546, 74.573, 82.6  ]),\n",
       " <BarContainer object of 10 artists>)"
      ]
     },
     "execution_count": 16,
     "metadata": {},
     "output_type": "execute_result"
    },
    {
     "data": {
      "image/png": "[encoded data removed]",
      "text/plain": [
       "<Figure size 432x288 with 1 Axes>"
      ]
     },
     "metadata": {
      "needs_background": "light"
     },
     "output_type": "display_data"
    }
   ],
   "source": [
    "plt.hist(y)"
   ]
  },
  {
   "cell_type": "markdown",
   "metadata": {},
   "source": [
    "\n",
    "## Augmentation without any parameters\n",
    "\n",
    "The algorithm calculates the parameters depending on the data\n",
    "\n",
    "Final result will give an equal number of minority and majority data points\n"
   ]
  },
  {
   "cell_type": "code",
   "execution_count": 17,
   "metadata": {},
   "outputs": [
    {
     "name": "stdout",
     "output_type": "stream",
     "text": [
      "Not enough minorities\n",
      "aug (13, 8) (13,)\n",
      "aug (6, 8) (6,)\n",
      "aug (2, 8) (2,)\n",
      "aug (2, 8) (2,)\n",
      "aug (3, 8) (3,)\n",
      "aug (3, 8) (3,)\n",
      "aug (4, 8) (4,)\n",
      "aug (2, 8) (2,)\n",
      "aug (14, 8) (14,)\n",
      "aug (7, 8) (7,)\n",
      "aug (8, 8) (8,)\n",
      "aug (11, 8) (11,)\n",
      "aug (11, 8) (11,)\n",
      "aug (11, 8) (11,)\n",
      "aug (7, 8) (7,)\n",
      "aug (15, 8) (15,)\n",
      "aug (14, 8) (14,)\n",
      "aug (15, 8) (15,)\n",
      "aug (13, 8) (13,)\n",
      "aug (14, 8) (14,)\n",
      "aug (15, 8) (15,)\n",
      "Shape after augmentation (1220, 8) (1220,)\n"
     ]
    },
    {
     "data": {
      "image/png": "[encoded data removed]",
      "text/plain": [
       "<Figure size 432x288 with 1 Axes>"
      ]
     },
     "metadata": {
      "needs_background": "light"
     },
     "output_type": "display_data"
    }
   ],
   "source": [
    "knnor_reg=data_augment.KNNOR_Reg()\n",
    "X_new,y_new,_,_=knnor_reg.fit_resample(X,y)\n",
    "print(\"Shape after augmentation\",X_new.shape,y_new.shape)\n"
   ]
  },
  {
   "cell_type": "code",
   "execution_count": 18,
   "metadata": {},
   "outputs": [
    {
     "data": {
      "text/plain": [
       "(array([ 66., 135., 159., 181., 196., 119., 116., 100.,  90.,  26.]),\n",
       " array([ 2.33 , 10.357, 18.384, 26.411, 34.438, 42.465, 50.492, 58.519,\n",
       "        66.546, 74.573, 82.6  ]),\n",
       " <BarContainer object of 10 artists>)"
      ]
     },
     "execution_count": 18,
     "metadata": {},
     "output_type": "execute_result"
    },
    {
     "data": {
      "image/png": "[encoded data removed]",
      "text/plain": [
       "<Figure size 432x288 with 1 Axes>"
      ]
     },
     "metadata": {
      "needs_background": "light"
     },
     "output_type": "display_data"
    }
   ],
   "source": [
    "plt.hist(y_new)"
   ]
  },
  {
   "cell_type": "code",
   "execution_count": null,
   "metadata": {},
   "outputs": [],
   "source": []
  }
 ],
 "metadata": {
  "kernelspec": {
   "display_name": "yolo5py37_kern",
   "language": "python",
   "name": "yolo5py37_kern"
  },
  "language_info": {
   "codemirror_mode": {
    "name": "ipython",
    "version": 3
   },
   "file_extension": ".py",
   "mimetype": "text/x-python",
   "name": "python",
   "nbconvert_exporter": "python",
   "pygments_lexer": "ipython3",
   "version": "3.7.11"
  }
 },
 "nbformat": 4,
 "nbformat_minor": 4
}
